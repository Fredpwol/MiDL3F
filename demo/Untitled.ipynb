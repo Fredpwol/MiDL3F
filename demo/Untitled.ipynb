{
 "cells": [
  {
   "cell_type": "code",
   "execution_count": 4,
   "id": "db807938",
   "metadata": {},
   "outputs": [
    {
     "name": "stdout",
     "output_type": "stream",
     "text": [
      "[[ 1  2  3  4  5  6]\n",
      " [ 7  8  9 10 11 12]\n",
      " [13 14 15 16 17 18]\n",
      " [19 20 21 22 23 24]\n",
      " [25 26 27 28 29 30]\n",
      " [31 32 33 34 35 36]]\n",
      "Segment 1:\n",
      "[[1 2]\n",
      " [7 8]]\n",
      "Segment 2:\n",
      "[[ 3  4]\n",
      " [ 9 10]]\n",
      "Segment 3:\n",
      "[[ 5  6]\n",
      " [11 12]]\n",
      "Segment 4:\n",
      "[[13 14]\n",
      " [19 20]]\n",
      "Segment 5:\n",
      "[[15 16]\n",
      " [21 22]]\n",
      "Segment 6:\n",
      "[[17 18]\n",
      " [23 24]]\n",
      "Segment 7:\n",
      "[[25 26]\n",
      " [31 32]]\n",
      "Segment 8:\n",
      "[[27 28]\n",
      " [33 34]]\n",
      "Segment 9:\n",
      "[[29 30]\n",
      " [35 36]]\n"
     ]
    }
   ],
   "source": [
    "import numpy as np\n",
    "\n",
    "\n",
    "def create_segments(matrix, num_splits):\n",
    "    matrix_rows, matrix_cols = matrix.shape\n",
    "    split_size = matrix_rows // num_splits\n",
    "    \n",
    "    segments = []\n",
    "    \n",
    "    for i in range(num_splits):\n",
    "        for j in range(num_splits):\n",
    "            segment = matrix[i * split_size: (i + 1) * split_size, j * split_size: (j + 1) * split_size]\n",
    "            segments.append(segment)\n",
    "    \n",
    "    return segments\n",
    "\n",
    "matrix_size = 6\n",
    "last_value = matrix_size * matrix_size\n",
    "\n",
    "matrix = np.arange(1, last_value + 1).reshape(matrix_size, matrix_size)\n",
    "\n",
    "num_splits = 3\n",
    "segments = create_segments(matrix, num_splits)\n",
    "\n",
    "print(matrix)\n",
    "\n",
    "for i, segment in enumerate(segments):\n",
    "    print(f\"Segment {i+1}:\")\n",
    "    print(segment)\n",
    "\n"
   ]
  },
  {
   "cell_type": "code",
   "execution_count": null,
   "id": "a090d77b",
   "metadata": {},
   "outputs": [],
   "source": []
  }
 ],
 "metadata": {
  "kernelspec": {
   "display_name": "Python 3 (ipykernel)",
   "language": "python",
   "name": "python3"
  },
  "language_info": {
   "codemirror_mode": {
    "name": "ipython",
    "version": 3
   },
   "file_extension": ".py",
   "mimetype": "text/x-python",
   "name": "python",
   "nbconvert_exporter": "python",
   "pygments_lexer": "ipython3",
   "version": "3.10.9"
  }
 },
 "nbformat": 4,
 "nbformat_minor": 5
}
